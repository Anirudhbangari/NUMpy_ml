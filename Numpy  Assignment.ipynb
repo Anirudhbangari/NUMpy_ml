{
 "cells": [
  {
   "cell_type": "code",
   "execution_count": 2,
   "id": "87355723-4c86-4bb0-a56c-1d00e68c7f85",
   "metadata": {},
   "outputs": [
    {
     "name": "stdout",
     "output_type": "stream",
     "text": [
      " \n"
     ]
    }
   ],
   "source": [
    "#1. What is a Python library? Why ^o we use Python libraries?\n",
    "'''A Python library is a collection of pre-written code, functions, and modules that extend the capabilities of the Python programming language. \n",
    "These libraries provide reusable and well-tested code, allowing developers to perform various tasks without having to implement everything from scratch. \n",
    "Python libraries cover a wide range of functionalities, such as data manipulation, scientific computing, web development, machine learning, artificial intelligence, and more.\n",
    "\n",
    "**********Here are some key reasons why Python libraries are widely used:*************\n",
    "\n",
    "1.)Efficiency: Libraries save time and effort by providing pre-built solutions for common tasks. Developers can leverage these libraries to avoid reinventing the wheel and \n",
    "focus on solving specific problems.\n",
    "\n",
    "2.)Code Reusability: Python libraries encapsulate functionality into modules and functions that can be easily reused across different projects. \n",
    "This promotes a modular and efficient coding style, making it easier to maintain and update code.\n",
    "\n",
    "3.)Community Support: Many Python libraries are open-source and have large, active communities. \n",
    "This means that developers can benefit from community-contributed improvements, bug fixes, and documentation, making it easier to find solutions and support.\n",
    "\n",
    "4.)Standardization: Python libraries often establish standard practices and conventions, contributing to a consistent coding style. \n",
    "This helps developers maintain clean and readable code that follows industry best practices.\n",
    "\n",
    "5.)Extensibility: Python libraries can be easily extended to accommodate specific needs. \n",
    "If a library lacks a particular feature, developers can contribute to the library or build their own extensions, fostering a collaborative and adaptable ecosystem.\n",
    "\n",
    "6.)Versatility: Python has a rich ecosystem of libraries catering to various domains, making it a versatile language. \n",
    "Whether you're working on web development, data analysis, machine learning, or other fields, chances are there's a library that can simplify your tasks.\n",
    "\n",
    "7.)Performance: Many Python libraries are implemented in languages like C or C++, providing efficient performance for computationally intensive tasks.\n",
    "Developers can enjoy the ease of Python coding without sacrificing performance when using such libraries.\n",
    "\n",
    "In summary, Python libraries enhance the capabilities of the language by providing pre-built solutions for common tasks, promoting code reusability, and \n",
    "fostering a collaborative and efficient development environment.\n",
    "'''\n"
   ]
  },
  {
   "cell_type": "code",
   "execution_count": null,
   "id": "007d28f4-2c1b-41de-801d-349088ebb380",
   "metadata": {},
   "outputs": [],
   "source": [
    "#2. What is the ^ifference between Numpy array an^ List?\n",
    "'''\n",
    "NumPy arrays and Python lists are both used to store collections of data, but there are significant differences between them in terms of functionality, performance, \n",
    "and usage. Here are some key distinctions:\n",
    "\n",
    "1. 1.Data Type and Homogeneity:**\n",
    "   - **NumPy Array:** NumPy arrays are homogeneous, meaning all elements must be of the same data type. This allows for more efficient storage and operations on the data.\n",
    "   - **List:** Python lists are heterogeneous, allowing elements of different data types to coexist in the same list.\n",
    "\n",
    "2. 2.)erformance:**\n",
    "   **NumPy Array:** NumPy is optimized for numerical operations. Its array operations are implemented in C and Fortran, providing better performance compared to Python lists\n",
    "   for mathematical computations.\n",
    "   \n",
    "   **List:** Lists are more general-purpose and not optimized for numerical operations. Performing mathematical operations on large lists can be slower compared to NumPy arrays.\n",
    "\n",
    "3. 3.)emory Efficiency:**\n",
    "   **NumPy Array:** NumPy arrays are more memory-efficient than lists, especially for large datasets. This is partly due to the homogeneous data type, which allows for a \n",
    "   more compact representation in memory.\n",
    "   **List:** Lists have more overhead in terms of memory because they store additional information for each element, such as the type and reference.\n",
    "\n",
    "4. 4.)ase of Use:**\n",
    "   **NumPy Array:** NumPy provides a wide range of mathematical functions and operations on arrays, making it convenient for numerical computing. It supports vectorized \n",
    "       operations, which can be more concise and readable.\n",
    "   **List:** Lists are more general-purpose and versatile. They are easier to work with for tasks that don't involve extensive numerical computations.\n",
    "\n",
    "5. 5.)yntax and Operations:**\n",
    "   **NumPy Array:** NumPy supports element-wise operations, broadcasting, and other advanced array manipulation techniques. It provides a more concise and expressive syntax \n",
    "           or numerical operations.\n",
    "   **List:** Lists are more basic in terms of operations. To perform mathematical operations on all elements of a list, you would typically use loops or list comprehensions.\n",
    "   \n",
    "\n",
    "6. 6.)ize and Extensibility:**\n",
    "   **NumPy Array:** The size of a NumPy array is fixed upon creation. If you need to add or remove elements, you'll create a new array. \n",
    "   NumPy arrays are more suitable for fixed-size, numerical datasets.\n",
    "   **List:** Lists can dynamically grow or shrink in size, making them more flexible for dynamic data structures.\n",
    "\n",
    "In summary, while both NumPy arrays and Python lists serve the purpose of storing collections of data, NumPy arrays are specifically designed for numerical computing, \n",
    "offering better performance and memory efficiency. Lists, on the other hand, are more general-purpose and flexible for a wide range of applications. \n",
    "The choice between them depends on the nature of the data and the operations you need to perform.\n"
   ]
  },
  {
   "cell_type": "code",
   "execution_count": 7,
   "id": "ed51f3d2-47f0-41fe-b0a4-0400a6b1d8b4",
   "metadata": {},
   "outputs": [
    {
     "data": {
      "text/plain": [
       "(3, 4)"
      ]
     },
     "execution_count": 7,
     "metadata": {},
     "output_type": "execute_result"
    }
   ],
   "source": [
    "#3. Fin^ the shape, size an^ ^imension of the following array?\n",
    "import numpy as np\n",
    "l = [[1, 2, 3, 4],[5, 6, 7, 8],[9, 10, 11, 12]]\n",
    "np.shape(l)"
   ]
  },
  {
   "cell_type": "code",
   "execution_count": 12,
   "id": "a14a522e-16b3-4516-a5a2-0ae15f9927bb",
   "metadata": {},
   "outputs": [
    {
     "name": "stdout",
     "output_type": "stream",
     "text": [
      "First row = [1 2 3 4]\n"
     ]
    }
   ],
   "source": [
    "#4. Write python code to access the first row of the following array?\n",
    "kl = np.array([[1, 2, 3, 4],[5, 6, 7, 8],[9, 10, 11, 12]])\n",
    "print(f\"First row = {kl[0]}\")"
   ]
  },
  {
   "cell_type": "code",
   "execution_count": 13,
   "id": "0628bb6e-e40d-4a17-ae37-c91a0158675e",
   "metadata": {},
   "outputs": [
    {
     "name": "stdout",
     "output_type": "stream",
     "text": [
      "Access element in 3rd row and 4th column = 12\n"
     ]
    }
   ],
   "source": [
    "#5. How to you access the element at the third row and fourth column from the given numpy array?\n",
    "lk = np.array([[1, 2, 3, 4],[5, 6, 7, 8],[9, 10, 11, 12]])\n",
    "print(f\"Access element in 3rd row and 4th column = {kl[2,3]}\")"
   ]
  },
  {
   "cell_type": "code",
   "execution_count": 15,
   "id": "fa62fa27-4ea6-4bcb-9a94-3bcf25621891",
   "metadata": {},
   "outputs": [
    {
     "name": "stdout",
     "output_type": "stream",
     "text": [
      "Extract all odd-indexed element from given array = [[ 2  4]\n",
      " [ 6  8]\n",
      " [10 12]]\n"
     ]
    }
   ],
   "source": [
    "#6. Write code to extract all odd-indexed elements from the given numpy array?\n",
    "po = np.array([[1, 2, 3, 4],[5, 6, 7, 8],[9, 10, 11, 12]])\n",
    "print(f\"Extract all odd-indexed element from given array = {po[:, 1::2]}\")"
   ]
  },
  {
   "cell_type": "code",
   "execution_count": 21,
   "id": "d4cede7f-435f-406c-848a-523ec41c24c0",
   "metadata": {},
   "outputs": [
    {
     "name": "stdout",
     "output_type": "stream",
     "text": [
      "generating a random 3x3 matrix with values between 0 and 1 = [[0.27201912 0.61060945 0.73682847]\n",
      " [0.72400361 0.64735261 0.12835794]\n",
      " [0.19579672 0.23106224 0.35967672]]\n"
     ]
    }
   ],
   "source": [
    "#7. How can you generate a random 3x3 matrix with values between 0 and 1?\n",
    "'''np.random.rand(3, 3) creates a 3x3 matrix with random values sampled from a uniform distribution over the interval [0, 1). \n",
    "Each element of the matrix will be a float between 0 (inclusive) and 1 (exclusive).\n",
    "'''\n",
    "h = np.random.rand(3,3)\n",
    "print(f\"generating a random 3x3 matrix with values between 0 and 1 = {h}\")"
   ]
  },
  {
   "cell_type": "code",
   "execution_count": null,
   "id": "6ef925b4-8671-4b9b-a703-837a4501b1ac",
   "metadata": {},
   "outputs": [],
   "source": [
    "#8. Describe the difference between np.random.rand and np.random.randn?\n",
    "'''\n",
    "The main difference between `np.random.rand` and `np.random.randn` lies in the type of distribution used to generate random numbers:\n",
    "\n",
    "1. **`np.random.rand`:**\n",
    "   - This function generates random numbers from a uniform distribution over the interval `[0, 1)`.\n",
    "   - All values in the resulting array are equally likely to occur.\n",
    "   - The function takes the shape of the output array as separate arguments. For example, `np.random.rand(3, 3)` generates a 3x3 array of random numbers between 0 and 1.\n",
    "\n",
    "   Example:\n",
    "   ```python\n",
    "   import numpy as np\n",
    "\n",
    "   random_uniform = np.random.rand(3, 3)\n",
    "   ```\n",
    "\n",
    "2. **`np.random.randn`:**\n",
    "   - This function generates random numbers from a standard normal distribution (mean = 0, standard deviation = 1), which is also known as a Gaussian or normal distribution.\n",
    "   - Values closer to 0 are more likely to occur, and the distribution follows a bell-shaped curve.\n",
    "   - Like `np.random.rand`, the function takes the shape of the output array as separate arguments. \n",
    "       For example, `np.random.randn(3, 3)` generates a 3x3 array of random numbers from a standard normal distribution.\n",
    "\n",
    "   Example:\n",
    "   ```python\n",
    "   import numpy as np\n",
    "\n",
    "   random_normal = np.random.randn(3, 3)\n",
    "   ```\n",
    "\n",
    "In summary:\n",
    "\n",
    "- Use `np.random.rand` for generating random numbers from a uniform distribution over the interval `[0, 1)`.\n",
    "- Use `np.random.randn` for generating random numbers from a standard normal distribution (mean = 0, standard deviation = 1).\n",
    "\n",
    "Both functions are part of NumPy's `random` module and are useful in different scenarios depending on the desired distribution of the generated random numbers.\n",
    "'''"
   ]
  },
  {
   "cell_type": "code",
   "execution_count": 34,
   "id": "c8906c10-6c3c-4fcd-9d89-727d169a3362",
   "metadata": {},
   "outputs": [
    {
     "name": "stdout",
     "output_type": "stream",
     "text": [
      "[[[ 1  2  3]\n",
      "  [ 4  5  6]]\n",
      "\n",
      " [[ 7  8  9]\n",
      "  [10 11 12]]]\n"
     ]
    }
   ],
   "source": [
    "#9. Write code to increase the dimension of the following array?\n",
    "f = np.array([[1, 2, 3, 4],[5, 6, 7, 8],[9, 10, 11, 12]])\n",
    "#This will reshape but not modify thre original array --->f.reshape(2,2,3)\n",
    "f.resize(2, 2, 3)\n",
    "#\"This will modify thre original array ---> f.resize(2, 2, 3)\n",
    "print(f)"
   ]
  },
  {
   "cell_type": "code",
   "execution_count": 38,
   "id": "154f0ee5-c296-47bd-b57e-4bc399a9105a",
   "metadata": {},
   "outputs": [
    {
     "data": {
      "text/plain": [
       "array([[ 1,  5,  9],\n",
       "       [ 2,  6, 10],\n",
       "       [ 3,  7, 11],\n",
       "       [ 4,  8, 12]])"
      ]
     },
     "execution_count": 38,
     "metadata": {},
     "output_type": "execute_result"
    }
   ],
   "source": [
    "#10. How to transpose the following array in NumPy?\n",
    "f = np.array([[1, 2, 3, 4],[5, 6, 7, 8],[9, 10, 11, 12]])\n",
    "po = f.transpose()\n",
    "po"
   ]
  },
  {
   "cell_type": "code",
   "execution_count": 37,
   "id": "30bb6b64-5205-4b06-ab9d-34d429155504",
   "metadata": {},
   "outputs": [
    {
     "data": {
      "text/plain": [
       "array([[ 1,  5,  9],\n",
       "       [ 2,  6, 10],\n",
       "       [ 3,  7, 11],\n",
       "       [ 4,  8, 12]])"
      ]
     },
     "execution_count": 37,
     "metadata": {},
     "output_type": "execute_result"
    }
   ],
   "source": [
    "f.T"
   ]
  },
  {
   "cell_type": "code",
   "execution_count": 44,
   "id": "d29067e8-0c2c-497c-8ec4-dbdbf2b04de2",
   "metadata": {},
   "outputs": [
    {
     "name": "stdout",
     "output_type": "stream",
     "text": [
      "Index wise multiplication = [[  1   4   9  16]\n",
      " [ 25  36  49  64]\n",
      " [ 81 100 121 144]]\n",
      "Matrix multiplication = [[ 30  70 110]\n",
      " [ 70 174 278]\n",
      " [110 278 446]]\n",
      "Add both the matrics = [[ 2  4  6  8]\n",
      " [10 12 14 16]\n",
      " [18 20 22 24]]\n",
      "Subtract both the matrics = [[0 0 0 0]\n",
      " [0 0 0 0]\n",
      " [0 0 0 0]]\n",
      "Diide Matix B by A = [[1. 1. 1. 1.]\n",
      " [1. 1. 1. 1.]\n",
      " [1. 1. 1. 1.]]\n"
     ]
    }
   ],
   "source": [
    "#11. Consi^er the following matrix:\n",
    "import numpy as np\n",
    "\n",
    "# Matrix A2\n",
    "A2 = np.array([[1, 2, 3, 4],\n",
    "               [5, 6, 7, 8],\n",
    "               [9, 10, 11, 12]])\n",
    "\n",
    "# Matrix B2\n",
    "B2 = np.array([[1, 2, 3, 4],\n",
    "               [5, 6, 7, 8],\n",
    "               [9, 10, 11, 12]])\n",
    "\n",
    "#Perform the following operation using Python1\n",
    "#a) Index wiLe multiplication\n",
    "result_matrix = A2 * B2\n",
    "\n",
    "print(f\"Index wise multiplication = {result_matrix}\")\n",
    "\n",
    "\n",
    "#b) Matix multiplication\n",
    "result_matrix1 = np.dot(A2, B2.T)  # Using the transpose (.T) of B2 to ensure valid dimensions\n",
    "print(f\"Matrix multiplication = {result_matrix1}\")\n",
    "\n",
    "# Alternatively, you can use the @ operator for matrix multiplication\n",
    "# result_matrix = A2 @ B2.T\n",
    "\n",
    "#c)Add both the matrics\n",
    "print(f\"Add both the matrics = {A2 + B2}\")\n",
    "\n",
    "#d) Subtact matix B from A\n",
    "print(f\"Subtract both the matrics = {A2 - B2}\")\n",
    "\n",
    "#e)Diide Matix B by A\n",
    "print(f\"Diide Matix B by A = {B2/A2}\")\n"
   ]
  },
  {
   "cell_type": "code",
   "execution_count": null,
   "id": "5dc13a4e-f48e-49b2-881e-4ee3b115310e",
   "metadata": {},
   "outputs": [],
   "source": [
    "#12. Which function in Numpy can be used to swap the byte order of an array?\n",
    "'''\n",
    "The `byteswap` function in NumPy can be used to swap the byte order of an array. \n",
    "This function is available for ndarray objects and allows you to change the byte order of the elements in the array. \n",
    "It is particularly useful when dealing with data stored in a different byte order, such as when reading binary data from files or network communication.\n",
    "\n",
    "Here's an example of how to use `byteswap`:\n",
    "\n",
    "```python\n",
    "import numpy as np\n",
    "\n",
    "# Create a NumPy array with a specified byte order\n",
    "original_array = np.array([1, 2, 3, 4], dtype=np.int32)\n",
    "\n",
    "# Swap the byte order using byteswap\n",
    "swapped_array = original_array.byteswap()\n",
    "\n",
    "print(\"Original Array:\", original_array)\n",
    "print(\"Swapped Array:\", swapped_array)\n",
    "```\n",
    "\n",
    "This will output something like:\n",
    "\n",
    "```\n",
    "Original Array: [1 2 3 4]\n",
    "Swapped Array: [16777216 33554432 50331648 67108864]\n",
    "```\n",
    "\n",
    "Keep in mind that the byte order swap may not result in a meaningful output for integer values unless the byte order is different from the system's native byte order. \n",
    "For floating-point numbers or data read from external sources, byte order swapping is more relevant.\n",
    "'''"
   ]
  },
  {
   "cell_type": "code",
   "execution_count": 46,
   "id": "e8a9b34b-1247-4e15-a21c-c592d8d1fbe1",
   "metadata": {},
   "outputs": [
    {
     "name": "stdout",
     "output_type": "stream",
     "text": [
      "Solution x: [1.8 0.4]\n"
     ]
    }
   ],
   "source": [
    "#13. What is the significance of the np.linalg.inv function?\n",
    "'''\n",
    "The np.linalg.inv function in NumPy is used to compute the inverse of a square matrix. \n",
    "The significance of the inv function lies in its application to linear algebra and solving systems of linear equations.\n",
    "\n",
    "Given a square matrix A,if its inverse exists (i.e.,A^(-1) exists),then the product of A and A^(-1) is the identity matrix I.\n",
    "A. A^(-1)  =  A^(-1) .A = I\n",
    "\n",
    "Here are some key points regarding the significance of np.linalg.inv:\n",
    "\n",
    "1.)Solving Linear Systems:\n",
    "One of the primary applications of matrix inversion is in solving systems of linear equations. If Ax = B,where A is a square matrix, x is the column vector of variables, \n",
    "and B is another vector, then x = A^(-1).B.This is particularly useful in various fields, including physics, engineering, and data analysis.\n",
    "\n",
    "2.)Eigenvalue Problems:\n",
    "Matrix inversion is often used in eigenvalue problems. For a square matrix A,if Av = λv,where v is a non-zero vector and λ is an eigenvalue,then A^(-1)v = 1/λ *v.\n",
    "This relationship is useful in understanding the properties of eigenvalues and eigenvectors.\n",
    "\n",
    "3.)Numerical Stability:\n",
    "The np.linalg.inv function uses numerical algorithms to compute the matrix inverse. It's important to note that not all matrices have inverses, and in some cases, \n",
    "the numerical precision of floating-point calculations may affect the accuracy of the computed inverse. Checking the condition number of a matrix (using np.linalg.cond) \n",
    "can provide insights into the numerical stability.\n",
    "Here's a simple example of using np.linalg.inv to solve a linear system:\n",
    "'''\n",
    "import numpy as np\n",
    "\n",
    "# Define a coefficient matrix A and a column vector B\n",
    "A = np.array([[2, 1], [3, 4]])\n",
    "B = np.array([4, 7])\n",
    "\n",
    "# Solve for x in Ax = B using np.linalg.inv\n",
    "x = np.linalg.inv(A).dot(B)\n",
    "\n",
    "print(\"Solution x:\", x)\n",
    "\n"
   ]
  },
  {
   "cell_type": "code",
   "execution_count": null,
   "id": "8408a362-b770-49ee-a23d-a789aabde7d0",
   "metadata": {},
   "outputs": [],
   "source": [
    "#14. What does the np.reshape function do, and how is it used?\n",
    "'''\n",
    "The np.reshape function in NumPy is used to change the shape of an array without changing its data. It returns a new array with the specified shape, and \n",
    "the original array remains unchanged. The reshaped array has the same data as the original array but organized in a different way.\n",
    "'''\n",
    "f = np.array([[1, 2, 3, 4],[5, 6, 7, 8],[9, 10, 11, 12]])\n",
    "#This will reshape but not modify thre original array --->f.reshape(2,2,3)\n"
   ]
  }
 ],
 "metadata": {
  "kernelspec": {
   "display_name": "Python 3 (ipykernel)",
   "language": "python",
   "name": "python3"
  },
  "language_info": {
   "codemirror_mode": {
    "name": "ipython",
    "version": 3
   },
   "file_extension": ".py",
   "mimetype": "text/x-python",
   "name": "python",
   "nbconvert_exporter": "python",
   "pygments_lexer": "ipython3",
   "version": "3.10.8"
  }
 },
 "nbformat": 4,
 "nbformat_minor": 5
}
